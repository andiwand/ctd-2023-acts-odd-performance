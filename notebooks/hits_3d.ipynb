{
 "cells": [
  {
   "cell_type": "code",
   "execution_count": null,
   "id": "5903aa3f-1441-4945-a0bf-a9e9b9951983",
   "metadata": {},
   "outputs": [],
   "source": [
    "%matplotlib widget"
   ]
  },
  {
   "cell_type": "code",
   "execution_count": null,
   "id": "8f5190cf-1ce1-49b3-aae0-f0358c50c673",
   "metadata": {},
   "outputs": [],
   "source": [
    "import uproot\n",
    "import awkward as ak\n",
    "import matplotlib.pyplot as plt\n",
    "from mpl_toolkits.mplot3d import Axes3D"
   ]
  },
  {
   "cell_type": "code",
   "execution_count": null,
   "id": "18c2d63c-eedd-4685-9aee-f5831ba0f622",
   "metadata": {},
   "outputs": [],
   "source": [
    "fatras = uproot.open(\"../debug_fatras/hits.root\")[\"hits\"].arrays(library=\"pandas\")\n",
    "geant4 = uproot.open(\"../debug_geant4/hits.root\")[\"hits\"].arrays(library=\"pandas\")"
   ]
  },
  {
   "cell_type": "code",
   "execution_count": null,
   "id": "5aa83b59-ceab-4cd9-a05b-f584ad7f7732",
   "metadata": {},
   "outputs": [],
   "source": [
    "ax = Axes3D(plt.gcf())\n",
    "ax.scatter(fatras[\"tx\"],fatras[\"ty\"],fatras[\"tz\"])\n",
    "ax.scatter(fatras[\"tx\"],fatras[\"ty\"],fatras[\"tz\"])\n",
    "plt.show()"
   ]
  },
  {
   "cell_type": "code",
   "execution_count": null,
   "id": "15851fdd-2f2d-4b35-a368-f75ef2d9b468",
   "metadata": {},
   "outputs": [],
   "source": []
  }
 ],
 "metadata": {
  "kernelspec": {
   "display_name": "Python 3 (ipykernel)",
   "language": "python",
   "name": "python3"
  },
  "language_info": {
   "codemirror_mode": {
    "name": "ipython",
    "version": 3
   },
   "file_extension": ".py",
   "mimetype": "text/x-python",
   "name": "python",
   "nbconvert_exporter": "python",
   "pygments_lexer": "ipython3",
   "version": "3.11.4"
  }
 },
 "nbformat": 4,
 "nbformat_minor": 5
}
